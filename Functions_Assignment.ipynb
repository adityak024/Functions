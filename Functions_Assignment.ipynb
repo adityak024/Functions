{
  "nbformat": 4,
  "nbformat_minor": 0,
  "metadata": {
    "colab": {
      "provenance": []
    },
    "kernelspec": {
      "name": "python3",
      "display_name": "Python 3"
    },
    "language_info": {
      "name": "python"
    }
  },
  "cells": [
    {
      "cell_type": "markdown",
      "source": [
        "#Practical Questions\n",
        "\n",
        "\n",
        "1. Write a Python function that takes a list of numbers as input and returns the sum of all even numbers in\n",
        "the list."
      ],
      "metadata": {
        "id": "6JfhNESiiCgJ"
      }
    },
    {
      "cell_type": "code",
      "source": [
        "def sum_of_even_numbers(numbers):\n",
        "  '''\n",
        "  This function takes the list of numbers as inputs and returns the sum of all the even numbers\n",
        "\n",
        "  Args:\n",
        "      numbers- A list of even numbers\n",
        "\n",
        "  Returns:\n",
        "       The sum of all the even numbers\n",
        "\n",
        "  '''\n",
        "\n",
        "  sum = 0\n",
        "  for number in numbers:\n",
        "    if number % 2 == 0:\n",
        "      sum += number\n",
        "\n",
        "  return sum\n",
        "\n",
        "\n",
        "my_list = [1,2,3,4,5,6,7,8,9]\n",
        "even_sum = sum_of_even_numbers(my_list)\n",
        "print(f\"The sum of all the even numbers: {even_sum}\")"
      ],
      "metadata": {
        "colab": {
          "base_uri": "https://localhost:8080/"
        },
        "id": "Ietnl5tliKOn",
        "outputId": "0fdb06cc-fa5e-4c4c-dca8-fe2c242412ae"
      },
      "execution_count": null,
      "outputs": [
        {
          "output_type": "stream",
          "name": "stdout",
          "text": [
            "The sum of all the even numbers: 20\n"
          ]
        }
      ]
    },
    {
      "cell_type": "markdown",
      "source": [
        "2. Create a Python function that accepts a string and returns the reverse of that string."
      ],
      "metadata": {
        "id": "-xX7nli0mEJn"
      }
    },
    {
      "cell_type": "code",
      "source": [
        "def reverse_string(s):\n",
        "  '''\n",
        "  This function accepts the string and returns the reverse of that string\n",
        "\n",
        "  Args:\n",
        "      s- The string to reverse\n",
        "\n",
        "  Returns:\n",
        "      The String is reversed\n",
        "  '''\n",
        "\n",
        "  return s[::-1]\n",
        "\n",
        "my_string = \"Hello World\"\n",
        "reversed_string = reverse_string(my_string)\n",
        "print(f\"The reversed string is: {reversed_string}\")"
      ],
      "metadata": {
        "colab": {
          "base_uri": "https://localhost:8080/"
        },
        "id": "pqYnCRHijFZ-",
        "outputId": "78993ba7-5b40-458d-98a6-93fbd66e14fd"
      },
      "execution_count": null,
      "outputs": [
        {
          "output_type": "stream",
          "name": "stdout",
          "text": [
            "The reversed string is: dlroW olleH\n"
          ]
        }
      ]
    },
    {
      "cell_type": "markdown",
      "source": [
        "3. Implement a Python function that takes a list of integers and returns a new list containing the squares of\n",
        "each number."
      ],
      "metadata": {
        "id": "H-WgYFrEns7b"
      }
    },
    {
      "cell_type": "code",
      "source": [
        "def squares(numbers):\n",
        "  '''\n",
        "  This function takes the numbers as input and returns as squares in the new list\n",
        "\n",
        "  Args:\n",
        "    numbers- A list of integers\n",
        "\n",
        "  Returns:\n",
        "       The squares of each numbers\n",
        "  '''\n",
        "  squared_numbers = [number**2 for number in numbers]\n",
        "  return squared_numbers\n",
        "\n",
        "\n",
        "numbers = [9,8,7,6,5,4,3,2,1]\n",
        "squared_numbers = squares(numbers)\n",
        "print(f\"The squares of each numbers is: {squared_numbers}\")"
      ],
      "metadata": {
        "colab": {
          "base_uri": "https://localhost:8080/"
        },
        "id": "EhXktM9pnct0",
        "outputId": "65f6cf83-0c8e-45ec-9cc9-e5529d8a5917"
      },
      "execution_count": null,
      "outputs": [
        {
          "output_type": "stream",
          "name": "stdout",
          "text": [
            "The squares of each numbers is: [81, 64, 49, 36, 25, 16, 9, 4, 1]\n"
          ]
        }
      ]
    },
    {
      "cell_type": "markdown",
      "source": [
        "4. Write a Python function that checks if a given number is prime or not from 1 to 200."
      ],
      "metadata": {
        "id": "v5Zj9hRDqR5l"
      }
    },
    {
      "source": [
        "import math\n",
        "\n",
        "def is_prime(number):\n",
        "    \"\"\"\n",
        "    This function checks if a given number is prime or not within the range of 1 to 200.\n",
        "\n",
        "    Args:\n",
        "        number: The number to check for primality.\n",
        "\n",
        "    Returns:\n",
        "        True if the number is prime, False otherwise.\n",
        "    \"\"\"\n",
        "    if number <= 1 or number > 200:\n",
        "        return False  # Numbers less than or equal to 1 or greater than 200 are not prime\n",
        "    if number <= 3:\n",
        "        return True  # 2 and 3 are prime\n",
        "    if number % 2 == 0 or number % 3 == 0:\n",
        "        return False  # Numbers divisible by 2 or 3 are not prime\n",
        "    i = 5\n",
        "    while i * i <= number:\n",
        "        if number % i == 0 or number % (i + 2) == 0:\n",
        "            return False\n",
        "        i += 6\n",
        "    return True\n",
        "\n",
        "# Example usage:\n",
        "number = 17\n",
        "if is_prime(number):\n",
        "    print(f\"{number} is a prime number.\") # Output: 17 is a prime number.\n",
        "else:\n",
        "    print(f\"{number} is not a prime number.\")"
      ],
      "cell_type": "code",
      "metadata": {
        "colab": {
          "base_uri": "https://localhost:8080/"
        },
        "id": "5jpLy2sSJtO7",
        "outputId": "b2b1922d-1962-4c67-c18d-deeea47ba711"
      },
      "execution_count": null,
      "outputs": [
        {
          "output_type": "stream",
          "name": "stdout",
          "text": [
            "17 is a prime number.\n"
          ]
        }
      ]
    },
    {
      "cell_type": "markdown",
      "source": [
        "5. Create an iterator class in Python that generates the Fibonacci sequence up to a specified number of\n",
        "terms."
      ],
      "metadata": {
        "id": "RmXIms26MV6T"
      }
    },
    {
      "cell_type": "code",
      "source": [
        "class FibonacciIterator:\n",
        "  def __init__(self,num_terms):\n",
        "    self.num_terms = num_terms\n",
        "    self.count = 0\n",
        "    self.a, self.b = 0,1\n",
        "\n",
        "  def __iter__(self):\n",
        "    return self\n",
        "\n",
        "  def __next__(self):\n",
        "    if self.count < self.num_terms:\n",
        "      fib_num = self.a\n",
        "      self.a , self.b = self.b, self.a+self.b\n",
        "      self.count +=1\n",
        "      return fib_num\n",
        "\n",
        "    else:\n",
        "      raise StopIteration\n",
        "\n",
        "\n",
        "fib_iter = FibonacciIterator(10)\n",
        "for num in fib_iter:\n",
        "  print(num)\n",
        "\n"
      ],
      "metadata": {
        "colab": {
          "base_uri": "https://localhost:8080/"
        },
        "id": "gBZ5DumlJN9K",
        "outputId": "cee5bc56-a26e-415d-b91c-dbfb048bca79"
      },
      "execution_count": null,
      "outputs": [
        {
          "output_type": "stream",
          "name": "stdout",
          "text": [
            "0\n",
            "1\n",
            "1\n",
            "2\n",
            "3\n",
            "5\n",
            "8\n",
            "13\n",
            "21\n",
            "34\n"
          ]
        }
      ]
    },
    {
      "cell_type": "markdown",
      "source": [
        "6. Write a generator function in Python that yields the powers of 2 up to a given exponent."
      ],
      "metadata": {
        "id": "gUO__D7xRPya"
      }
    },
    {
      "source": [
        "def powers_of_2(exponent):\n",
        "    \"\"\"\n",
        "    This generator function yields the powers of 2 up to a given exponent.\n",
        "\n",
        "    Args:\n",
        "        exponent: The maximum exponent.\n",
        "\n",
        "    Yields:\n",
        "        The powers of 2.\n",
        "    \"\"\"\n",
        "    for i in range(exponent + 1):\n",
        "        yield 2**i\n",
        "\n",
        "for power in powers_of_2(5):\n",
        "    print(power)"
      ],
      "cell_type": "code",
      "metadata": {
        "colab": {
          "base_uri": "https://localhost:8080/"
        },
        "id": "nO8VCh-1Sk_G",
        "outputId": "02927771-7ba1-4c03-e3aa-facb3ccd9305"
      },
      "execution_count": null,
      "outputs": [
        {
          "output_type": "stream",
          "name": "stdout",
          "text": [
            "1\n",
            "2\n",
            "4\n",
            "8\n",
            "16\n",
            "32\n"
          ]
        }
      ]
    },
    {
      "cell_type": "markdown",
      "source": [
        "7. Implement a generator function that reads a file line by line and yields each line as a string."
      ],
      "metadata": {
        "id": "RKyq2JU0Tdd0"
      }
    },
    {
      "source": [
        "def read_file_line_by_line(file_path):\n",
        "  \"\"\"\n",
        "  This generator function reads a file line by line and yields each line as a string.\n",
        "\n",
        "  Args:\n",
        "      file_path: The path to the file.\n",
        "\n",
        "  Yields:\n",
        "      Each line of the file as a string.\n",
        "  \"\"\"\n",
        "  with open(file_path, 'r') as file:\n",
        "    for line in file:\n",
        "      yield line.rstrip('\\n')  # Remove trailing newline\n",
        "\n",
        "# Example usage:\n",
        "file_path = 'my_file.txt'  # Replace with your file path\n",
        "for line in read_file_line_by_line(file_path):\n",
        "    print(line)"
      ],
      "cell_type": "code",
      "metadata": {
        "id": "wKD3B00CUEEz"
      },
      "execution_count": null,
      "outputs": []
    },
    {
      "cell_type": "markdown",
      "source": [
        "8. Use a lambda function in Python to sort a list of tuples based on the second element of each tuple."
      ],
      "metadata": {
        "id": "_1wJI2VNUF3r"
      }
    },
    {
      "cell_type": "code",
      "source": [
        "my_list = [('apple',3),('banana',1),('grapes',2)]\n",
        "sorted_list = sorted(my_list,key=lambda item: item[1])\n",
        "print(sorted_list)"
      ],
      "metadata": {
        "colab": {
          "base_uri": "https://localhost:8080/"
        },
        "id": "YN_YT7AeTzGh",
        "outputId": "e5c1ba32-52a9-40ec-c247-4abb085f3d5d"
      },
      "execution_count": null,
      "outputs": [
        {
          "output_type": "stream",
          "name": "stdout",
          "text": [
            "[('banana', 1), ('grapes', 2), ('apple', 3)]\n"
          ]
        }
      ]
    },
    {
      "cell_type": "markdown",
      "source": [
        "9. Write a Python program that uses `map()` to convert a list of temperatures from Celsius to Fahrenheit."
      ],
      "metadata": {
        "id": "Mxkq7EBKVpNy"
      }
    },
    {
      "cell_type": "code",
      "source": [
        "def celsius_to_fahrenhite(celsius):\n",
        "  '''converts celsius to fahrenhite'''\n",
        "  return (celsius * 9/5) + 32\n",
        "\n",
        "#list of celsius temperatures\n",
        "celsius_temps = [0,10,20,30,40,50]\n",
        "\n",
        "#use map() function to apply conversion of each element\n",
        "fahrenhite_temps = list(map(celsius_to_fahrenhite,celsius_temps))\n",
        "\n",
        "#printing the converted temperatures\n",
        "print(fahrenhite_temps)"
      ],
      "metadata": {
        "colab": {
          "base_uri": "https://localhost:8080/"
        },
        "id": "ZmlFzwO2VB0W",
        "outputId": "45fd732c-7c02-497d-ef2b-7f12a843fbb9"
      },
      "execution_count": null,
      "outputs": [
        {
          "output_type": "stream",
          "name": "stdout",
          "text": [
            "[32.0, 50.0, 68.0, 86.0, 104.0, 122.0]\n"
          ]
        }
      ]
    },
    {
      "cell_type": "markdown",
      "source": [
        "10.  Create a Python program that uses `filter()` to remove all the vowels from a given string."
      ],
      "metadata": {
        "id": "Cvz5jP4VX9s7"
      }
    },
    {
      "cell_type": "code",
      "source": [
        "def remove_vowels(string):\n",
        "  '''Removes all vowels froma given string using filter()'''\n",
        "  vowels = 'aeiouAEIOU'\n",
        "  filtered_vowels = filter(lambda char: char not in vowels, string)\n",
        "  return \"\".join(filtered_vowels)\n",
        "\n",
        "string = \"Hello, World!\"\n",
        "result = remove_vowels(string)\n",
        "print(result)"
      ],
      "metadata": {
        "colab": {
          "base_uri": "https://localhost:8080/"
        },
        "id": "4aPy32e6X8kg",
        "outputId": "a34203ae-9cfd-4867-bd7e-721a1419b8f5"
      },
      "execution_count": null,
      "outputs": [
        {
          "output_type": "stream",
          "name": "stdout",
          "text": [
            "Hll, Wrld!\n"
          ]
        }
      ]
    },
    {
      "cell_type": "markdown",
      "source": [
        "11. Imagine an accounting routine used in a book shop. It works on a list with sublists, which look like this:\n",
        "\n",
        "\n",
        "\n",
        "\n",
        "\n",
        "\n",
        "\n",
        "Write a Python program, which returns a list with 2-tuples. Each tuple consists of the order number and the\n",
        "product of the price per item and the quantity. The product should be increased by 10,- € if the value of the\n",
        "order is smaller than 100,00 €.\n",
        "\n",
        "Write a Python program using lambda and map"
      ],
      "metadata": {
        "id": "-_-CVbFtbGab"
      }
    },
    {
      "cell_type": "code",
      "source": [
        "orders = [\n",
        "    [34587, \"Learning Python, Mark Lutz\", 4, 40.95],\n",
        "    [98762, \"Programming Python, Mark Lutz\", 5, 56.80],\n",
        "    [77226, \"Head First Python, Paul Barry\", 3, 32.95],\n",
        "    [88112, \"Einführung in Python3, Bernd Klein\", 3, 24.99]\n",
        "]\n",
        "\n",
        "invoice_totals = list(map(lambda order: (order[0],order[2] * order[3] + 10\n",
        "                                         if order[2] * order[3] < 100\n",
        "                                         else order[2] * order[3]), orders))\n",
        "\n",
        "print(invoice_totals)"
      ],
      "metadata": {
        "colab": {
          "base_uri": "https://localhost:8080/"
        },
        "id": "0zEFurDEdMgC",
        "outputId": "8af3fc61-1fe1-4af0-fb91-f3fe2eb4e02d"
      },
      "execution_count": null,
      "outputs": [
        {
          "output_type": "stream",
          "name": "stdout",
          "text": [
            "[(34587, 163.8), (98762, 284.0), (77226, 108.85000000000001), (88112, 84.97)]\n"
          ]
        }
      ]
    }
  ]
}